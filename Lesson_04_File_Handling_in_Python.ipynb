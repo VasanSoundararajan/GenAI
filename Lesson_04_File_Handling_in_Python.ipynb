{
 "cells": [
  {
   "cell_type": "markdown",
   "metadata": {
    "id": "vWU6crMSQBfN"
   },
   "source": [
    "# __File Handling in Python__"
   ]
  },
  {
   "cell_type": "markdown",
   "metadata": {
    "id": "9msp-2jlQGOP"
   },
   "source": [
    "## __Reading a File:__\n",
    "- This opens example.txt in read mode ('r') and reads the entire content of the file into a string variable named content.\n"
   ]
  },
  {
   "cell_type": "code",
   "execution_count": 1,
   "metadata": {
    "colab": {
     "base_uri": "https://localhost:8080/"
    },
    "execution": {
     "iopub.execute_input": "2025-02-02T05:50:19.867309Z",
     "iopub.status.busy": "2025-02-02T05:50:19.866886Z",
     "iopub.status.idle": "2025-02-02T05:50:19.911360Z",
     "shell.execute_reply": "2025-02-02T05:50:19.902018Z",
     "shell.execute_reply.started": "2025-02-02T05:50:19.867275Z"
    },
    "id": "yguNrVsibjVm",
    "outputId": "3bfb66f7-a266-43e4-fe56-be8e84920f77",
    "tags": []
   },
   "outputs": [
    {
     "name": "stdout",
     "output_type": "stream",
     "text": [
      "This will overwrite existing content or create a new file if it doesn't exist.\n"
     ]
    }
   ],
   "source": [
    "file = open('../../Datasets/example.txt', 'r') # open file in read mode\n",
    "content = file.read() # read the contents of the file\n",
    "print(content) # print the contents of the file\n",
    "file.close() # close the file"
   ]
  },
  {
   "cell_type": "markdown",
   "metadata": {
    "id": "xS_ZxavFQZo9"
   },
   "source": [
    "## __Writing to a File:__\n",
    "- This opens example.txt in write mode ('w').\n",
    "- Anything written to the file will overwrite any existing content."
   ]
  },
  {
   "cell_type": "code",
   "execution_count": 2,
   "metadata": {
    "colab": {
     "base_uri": "https://localhost:8080/"
    },
    "execution": {
     "iopub.execute_input": "2025-02-02T05:50:24.238499Z",
     "iopub.status.busy": "2025-02-02T05:50:24.237309Z",
     "iopub.status.idle": "2025-02-02T05:50:24.256925Z",
     "shell.execute_reply": "2025-02-02T05:50:24.248628Z",
     "shell.execute_reply.started": "2025-02-02T05:50:24.238420Z"
    },
    "id": "lKykdGy5zCRu",
    "outputId": "d1f570f2-a5bd-49c4-cc9c-c08098808cb2",
    "tags": []
   },
   "outputs": [
    {
     "name": "stdout",
     "output_type": "stream",
     "text": [
      "<_io.TextIOWrapper name='../../Datasets/example.txt' mode='w' encoding='UTF-8'>\n"
     ]
    }
   ],
   "source": [
    "file = open('../../Datasets/example.txt', 'w')\n",
    "file.write(\"This will overwrite existing content or create a new file if it doesn't exist.\")\n",
    "print(file)\n",
    "file.close()\n",
    "\n"
   ]
  },
  {
   "cell_type": "code",
   "execution_count": 3,
   "metadata": {
    "execution": {
     "iopub.execute_input": "2025-02-02T05:50:25.999625Z",
     "iopub.status.busy": "2025-02-02T05:50:25.999124Z",
     "iopub.status.idle": "2025-02-02T05:50:26.009717Z",
     "shell.execute_reply": "2025-02-02T05:50:26.007706Z",
     "shell.execute_reply.started": "2025-02-02T05:50:25.999588Z"
    },
    "tags": []
   },
   "outputs": [
    {
     "name": "stdout",
     "output_type": "stream",
     "text": [
      "This will overwrite existing content or create a new file if it doesn't exist.\n"
     ]
    }
   ],
   "source": [
    "file = open('../../Datasets/example.txt', 'r') # open file in read mode\n",
    "content = file.read() # read the contents of the file\n",
    "print(content) # print the contents of the file\n",
    "file.close()"
   ]
  },
  {
   "cell_type": "markdown",
   "metadata": {
    "id": "KHHl-WHzQnTx"
   },
   "source": [
    "## __Appending to a File:__\n",
    "- This opens example.txt in append mode ('a').\n",
    "- The text provided in the file.write() is added to the end of the file's current content.\n",
    "- The file is then closed with file.close()."
   ]
  },
  {
   "cell_type": "code",
   "execution_count": 4,
   "metadata": {
    "execution": {
     "iopub.execute_input": "2025-02-02T05:50:47.024418Z",
     "iopub.status.busy": "2025-02-02T05:50:47.023394Z",
     "iopub.status.idle": "2025-02-02T05:50:47.034697Z",
     "shell.execute_reply": "2025-02-02T05:50:47.033374Z",
     "shell.execute_reply.started": "2025-02-02T05:50:47.024325Z"
    },
    "id": "KSqG6kwWzi8V",
    "tags": []
   },
   "outputs": [],
   "source": [
    "file = open('../../Datasets/example.txt', 'a')\n",
    "file.write(\"This will be appended to the end of the file.\")\n",
    "file.close()\n",
    "\n"
   ]
  },
  {
   "cell_type": "markdown",
   "metadata": {
    "id": "env55VcgQ3UT"
   },
   "source": [
    "## __Reading after Writing:__\n",
    "- After writing to the file in the previous step, this snippet reopens the file in read mode to print out the new content."
   ]
  },
  {
   "cell_type": "code",
   "execution_count": 5,
   "metadata": {
    "colab": {
     "base_uri": "https://localhost:8080/"
    },
    "execution": {
     "iopub.execute_input": "2025-02-02T05:50:54.192249Z",
     "iopub.status.busy": "2025-02-02T05:50:54.191780Z",
     "iopub.status.idle": "2025-02-02T05:50:54.201906Z",
     "shell.execute_reply": "2025-02-02T05:50:54.199463Z",
     "shell.execute_reply.started": "2025-02-02T05:50:54.192186Z"
    },
    "id": "0WyS3N8zzv_F",
    "outputId": "d88dbd4c-cb18-4d62-8158-1cf967a20a7a",
    "tags": []
   },
   "outputs": [
    {
     "name": "stdout",
     "output_type": "stream",
     "text": [
      "This will overwrite existing content or create a new file if it doesn't exist.This will be appended to the end of the file.\n"
     ]
    }
   ],
   "source": [
    "file = open('../../Datasets/example.txt', 'r')\n",
    "content = file.read()\n",
    "print(content)\n",
    "file.close()\n"
   ]
  },
  {
   "cell_type": "markdown",
   "metadata": {
    "id": "aUsVigQUREfx"
   },
   "source": [
    "## __Reading Line by Line:__\n",
    "- This reads the file line by line using file.readline().\n",
    "- The strip() function is used to remove the newline character from the end of each line before printing it."
   ]
  },
  {
   "cell_type": "code",
   "execution_count": 6,
   "metadata": {
    "colab": {
     "base_uri": "https://localhost:8080/"
    },
    "execution": {
     "iopub.execute_input": "2025-02-02T05:52:21.036099Z",
     "iopub.status.busy": "2025-02-02T05:52:21.034898Z",
     "iopub.status.idle": "2025-02-02T05:52:21.057134Z",
     "shell.execute_reply": "2025-02-02T05:52:21.050558Z",
     "shell.execute_reply.started": "2025-02-02T05:52:21.036021Z"
    },
    "id": "otMtL2de0e9J",
    "outputId": "1884cf17-dcc4-4079-eb31-000f5da6c42f"
   },
   "outputs": [
    {
     "name": "stdout",
     "output_type": "stream",
     "text": [
      "This will overwrite existing content or create a new file if it doesn't exist.This will be appended to the end of the file.\n"
     ]
    }
   ],
   "source": [
    "file = open('../../Datasets/example.txt', 'r')\n",
    "line = file.readline()\n",
    "while line: # while line is not empty\n",
    "    print(line.strip())  # using strip() to remove the newline character at the end\n",
    "    line = file.readline() # read the next line\n",
    "file.close() # close the file\n"
   ]
  },
  {
   "cell_type": "markdown",
   "metadata": {
    "id": "yim3Dz4gRSgy"
   },
   "source": [
    "## __Reading All Lines into a List:__\n",
    "- This reads all lines of the file into a list called lines and prints the list.\n",
    "- Each element of the list corresponds to one line in the file."
   ]
  },
  {
   "cell_type": "code",
   "execution_count": 8,
   "metadata": {
    "colab": {
     "base_uri": "https://localhost:8080/"
    },
    "execution": {
     "iopub.execute_input": "2025-02-02T05:53:14.682492Z",
     "iopub.status.busy": "2025-02-02T05:53:14.681804Z",
     "iopub.status.idle": "2025-02-02T05:53:14.700781Z",
     "shell.execute_reply": "2025-02-02T05:53:14.699097Z",
     "shell.execute_reply.started": "2025-02-02T05:53:14.682458Z"
    },
    "id": "d2Oq3rGC0lkf",
    "outputId": "64a2cade-4af1-498c-c1b1-3831055a10b6",
    "tags": []
   },
   "outputs": [
    {
     "name": "stdout",
     "output_type": "stream",
     "text": [
      "[\"This will overwrite existing content or create a new file if it doesn't exist.This will be appended to the end of the file.\"]\n"
     ]
    }
   ],
   "source": [
    "file = open('../../Datasets/example.txt', 'r')\n",
    "lines = file.readlines()\n",
    "print(lines)  # prints all the lines as a list\n",
    "file.close()\n"
   ]
  },
  {
   "cell_type": "markdown",
   "metadata": {
    "id": "3uDrEWrMRdXZ"
   },
   "source": [
    "## __Writing Strings and Closing the File:__\n",
    "- This opens the file in write mode and writes a single string to the file.\n",
    "- It writes each string in the list to the file, placing each on a separate line.\n",
    "- After closing the file in the previous step, this snippet reopens it in read mode to print out all the content that was written.\n",
    "- It's verifying what was written to the file by reading and printing it."
   ]
  },
  {
   "cell_type": "code",
   "execution_count": 9,
   "metadata": {
    "colab": {
     "base_uri": "https://localhost:8080/"
    },
    "execution": {
     "iopub.execute_input": "2025-02-02T05:54:11.102529Z",
     "iopub.status.busy": "2025-02-02T05:54:11.101987Z",
     "iopub.status.idle": "2025-02-02T05:54:11.111661Z",
     "shell.execute_reply": "2025-02-02T05:54:11.110202Z",
     "shell.execute_reply.started": "2025-02-02T05:54:11.102496Z"
    },
    "id": "t6tqJu700-6-",
    "outputId": "77a29db3-9472-4ddd-dea3-0261980ae6b9"
   },
   "outputs": [
    {
     "name": "stdout",
     "output_type": "stream",
     "text": [
      "Hi How Are You!\n",
      "First line\n",
      "Second line\n",
      "\n"
     ]
    }
   ],
   "source": [
    "# Open the file in write mode\n",
    "file = open('../../Datasets/example.txt', 'w')\n",
    "\n",
    "# Writing a string to the file\n",
    "file.write('Hi How Are You!\\n')\n",
    "\n",
    "# Writing a list of strings to the file\n",
    "lines = ['First line\\n', 'Second line\\n']\n",
    "file.writelines(lines)\n",
    "\n",
    "# Closing the file\n",
    "file.close()\n",
    "\n",
    "# Now, let's open the file again in read mode to print out its content\n",
    "file = open('../../Datasets/example.txt', 'r')\n",
    "content = file.read()\n",
    "print(content)\n",
    "file.close()\n"
   ]
  },
  {
   "cell_type": "code",
   "execution_count": null,
   "metadata": {},
   "outputs": [],
   "source": []
  }
 ],
 "metadata": {
  "colab": {
   "provenance": []
  },
  "kernelspec": {
   "display_name": "Python 3 (ipykernel)",
   "language": "python",
   "name": "python3"
  },
  "language_info": {
   "codemirror_mode": {
    "name": "ipython",
    "version": 3
   },
   "file_extension": ".py",
   "mimetype": "text/x-python",
   "name": "python",
   "nbconvert_exporter": "python",
   "pygments_lexer": "ipython3",
   "version": "3.10.10"
  }
 },
 "nbformat": 4,
 "nbformat_minor": 4
}
