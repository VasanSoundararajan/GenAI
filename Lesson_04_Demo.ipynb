{
 "cells": [
  {
   "cell_type": "markdown",
   "id": "8d84e95e",
   "metadata": {
    "id": "8d84e95e"
   },
   "source": [
    "# Data Types "
   ]
  },
  {
   "cell_type": "code",
   "execution_count": 1,
   "id": "25460612",
   "metadata": {
    "execution": {
     "iopub.execute_input": "2025-02-02T05:05:00.196558Z",
     "iopub.status.busy": "2025-02-02T05:05:00.195138Z",
     "iopub.status.idle": "2025-02-02T05:05:00.207601Z",
     "shell.execute_reply": "2025-02-02T05:05:00.207108Z",
     "shell.execute_reply.started": "2025-02-02T05:05:00.196511Z"
    },
    "id": "25460612"
   },
   "outputs": [
    {
     "name": "stdout",
     "output_type": "stream",
     "text": [
      "x =  34 \ty =  67.89 \tz =  True\n"
     ]
    }
   ],
   "source": [
    "x = 34 ; y = 67.89 ; z = True\n",
    "print('x = ', x, '\\ty = ', y, '\\tz = ', z)"
   ]
  },
  {
   "cell_type": "code",
   "execution_count": 2,
   "id": "a0ba3932",
   "metadata": {
    "execution": {
     "iopub.execute_input": "2025-02-02T05:05:44.047765Z",
     "iopub.status.busy": "2025-02-02T05:05:44.047258Z",
     "iopub.status.idle": "2025-02-02T05:05:44.059230Z",
     "shell.execute_reply": "2025-02-02T05:05:44.057662Z",
     "shell.execute_reply.started": "2025-02-02T05:05:44.047729Z"
    },
    "id": "a0ba3932"
   },
   "outputs": [
    {
     "name": "stdout",
     "output_type": "stream",
     "text": [
      "Type of \n",
      "x =  <class 'int'> \ty =  <class 'float'> \tz =  <class 'bool'>\n"
     ]
    }
   ],
   "source": [
    "print('Type of \\nx = ', type(x), '\\ty = ', type(y), '\\tz = ', type(z))"
   ]
  },
  {
   "cell_type": "code",
   "execution_count": 3,
   "id": "cf515aa8",
   "metadata": {
    "execution": {
     "iopub.execute_input": "2025-02-02T05:06:25.656559Z",
     "iopub.status.busy": "2025-02-02T05:06:25.656039Z",
     "iopub.status.idle": "2025-02-02T05:06:25.672641Z",
     "shell.execute_reply": "2025-02-02T05:06:25.663410Z",
     "shell.execute_reply.started": "2025-02-02T05:06:25.656483Z"
    },
    "id": "cf515aa8"
   },
   "outputs": [
    {
     "name": "stdout",
     "output_type": "stream",
     "text": [
      "var =  abc\n",
      "type of var  <class 'str'>\n"
     ]
    }
   ],
   "source": [
    "var = 'abc'\n",
    "print('var = ', var)\n",
    "print('type of var ', type(var))"
   ]
  },
  {
   "cell_type": "markdown",
   "id": "44cd2d69-3a48-4680-8316-e999266ce188",
   "metadata": {},
   "source": [
    "https://www.w3schools.com/python/python_datatypes.asp"
   ]
  },
  {
   "cell_type": "markdown",
   "id": "c9fcbcd0",
   "metadata": {
    "id": "c9fcbcd0"
   },
   "source": [
    "## Data Type Conversion\n",
    "Data type conversion in Python refers to the process of converting a value from one data type to another."
   ]
  },
  {
   "cell_type": "code",
   "execution_count": 4,
   "id": "7638f2ef-36ee-41bb-b1c2-dbfe34e5670e",
   "metadata": {
    "execution": {
     "iopub.execute_input": "2025-02-02T05:07:27.641780Z",
     "iopub.status.busy": "2025-02-02T05:07:27.640972Z",
     "iopub.status.idle": "2025-02-02T05:07:27.656925Z",
     "shell.execute_reply": "2025-02-02T05:07:27.656410Z",
     "shell.execute_reply.started": "2025-02-02T05:07:27.641715Z"
    },
    "id": "72cd4a8d",
    "outputId": "acab230f-4644-4437-8441-7b7c818410de"
   },
   "outputs": [
    {
     "data": {
      "text/plain": [
       "float"
      ]
     },
     "execution_count": 4,
     "metadata": {},
     "output_type": "execute_result"
    }
   ],
   "source": [
    "x = 45.77\n",
    "type(x)"
   ]
  },
  {
   "cell_type": "code",
   "execution_count": 5,
   "id": "83c457ad-a735-4be6-a4a2-c8686c1786d5",
   "metadata": {
    "execution": {
     "iopub.execute_input": "2025-02-02T05:07:42.240846Z",
     "iopub.status.busy": "2025-02-02T05:07:42.237207Z",
     "iopub.status.idle": "2025-02-02T05:07:42.251734Z",
     "shell.execute_reply": "2025-02-02T05:07:42.250688Z",
     "shell.execute_reply.started": "2025-02-02T05:07:42.240768Z"
    },
    "id": "72cd4a8d",
    "outputId": "acab230f-4644-4437-8441-7b7c818410de"
   },
   "outputs": [
    {
     "data": {
      "text/plain": [
       "45"
      ]
     },
     "execution_count": 5,
     "metadata": {},
     "output_type": "execute_result"
    }
   ],
   "source": [
    "int(x)"
   ]
  },
  {
   "cell_type": "code",
   "execution_count": null,
   "id": "617157ef-b35b-4026-bcf4-b7bfc34103a8",
   "metadata": {},
   "outputs": [],
   "source": [
    "# x = int(x)"
   ]
  },
  {
   "cell_type": "code",
   "execution_count": 6,
   "id": "2b0ded59",
   "metadata": {
    "execution": {
     "iopub.execute_input": "2025-02-02T05:08:12.409859Z",
     "iopub.status.busy": "2025-02-02T05:08:12.409217Z",
     "iopub.status.idle": "2025-02-02T05:08:12.419189Z",
     "shell.execute_reply": "2025-02-02T05:08:12.417701Z",
     "shell.execute_reply.started": "2025-02-02T05:08:12.409776Z"
    },
    "id": "2b0ded59"
   },
   "outputs": [
    {
     "data": {
      "text/plain": [
       "'45.77'"
      ]
     },
     "execution_count": 6,
     "metadata": {},
     "output_type": "execute_result"
    }
   ],
   "source": [
    "str(x)"
   ]
  },
  {
   "cell_type": "code",
   "execution_count": 7,
   "id": "f68b4a25",
   "metadata": {
    "execution": {
     "iopub.execute_input": "2025-02-02T05:09:17.082350Z",
     "iopub.status.busy": "2025-02-02T05:09:17.081736Z",
     "iopub.status.idle": "2025-02-02T05:09:17.097548Z",
     "shell.execute_reply": "2025-02-02T05:09:17.095292Z",
     "shell.execute_reply.started": "2025-02-02T05:09:17.082288Z"
    },
    "id": "f68b4a25",
    "outputId": "8483c949-9980-4392-c1aa-3d0fb2739094"
   },
   "outputs": [
    {
     "data": {
      "text/plain": [
       "True"
      ]
     },
     "execution_count": 7,
     "metadata": {},
     "output_type": "execute_result"
    }
   ],
   "source": [
    "bool(x)"
   ]
  },
  {
   "cell_type": "code",
   "execution_count": 9,
   "id": "9d0fa761-c5b0-4ac2-a3bd-f8eba6e36a88",
   "metadata": {
    "execution": {
     "iopub.execute_input": "2025-02-02T05:09:42.341197Z",
     "iopub.status.busy": "2025-02-02T05:09:42.339697Z",
     "iopub.status.idle": "2025-02-02T05:09:42.350974Z",
     "shell.execute_reply": "2025-02-02T05:09:42.350523Z",
     "shell.execute_reply.started": "2025-02-02T05:09:42.341136Z"
    },
    "tags": []
   },
   "outputs": [
    {
     "data": {
      "text/plain": [
       "True"
      ]
     },
     "execution_count": 9,
     "metadata": {},
     "output_type": "execute_result"
    }
   ],
   "source": [
    "k = 223\n",
    "bool(k)"
   ]
  },
  {
   "cell_type": "code",
   "execution_count": 10,
   "id": "d351bbfa",
   "metadata": {
    "execution": {
     "iopub.execute_input": "2025-02-02T05:10:15.357812Z",
     "iopub.status.busy": "2025-02-02T05:10:15.357069Z",
     "iopub.status.idle": "2025-02-02T05:10:15.368564Z",
     "shell.execute_reply": "2025-02-02T05:10:15.364947Z",
     "shell.execute_reply.started": "2025-02-02T05:10:15.357777Z"
    },
    "id": "d351bbfa"
   },
   "outputs": [],
   "source": [
    "y = '45.88'"
   ]
  },
  {
   "cell_type": "code",
   "execution_count": 11,
   "id": "9d5a37f0-e1eb-4376-906c-82ee453207fc",
   "metadata": {
    "execution": {
     "iopub.execute_input": "2025-02-02T05:11:11.979406Z",
     "iopub.status.busy": "2025-02-02T05:11:11.978780Z",
     "iopub.status.idle": "2025-02-02T05:11:11.989665Z",
     "shell.execute_reply": "2025-02-02T05:11:11.987837Z",
     "shell.execute_reply.started": "2025-02-02T05:11:11.979368Z"
    },
    "tags": []
   },
   "outputs": [
    {
     "data": {
      "text/plain": [
       "str"
      ]
     },
     "execution_count": 11,
     "metadata": {},
     "output_type": "execute_result"
    }
   ],
   "source": [
    "type(y)"
   ]
  },
  {
   "cell_type": "code",
   "execution_count": 12,
   "id": "8a4e5f55",
   "metadata": {
    "execution": {
     "iopub.execute_input": "2025-02-02T05:11:21.247589Z",
     "iopub.status.busy": "2025-02-02T05:11:21.246831Z",
     "iopub.status.idle": "2025-02-02T05:11:21.257310Z",
     "shell.execute_reply": "2025-02-02T05:11:21.256539Z",
     "shell.execute_reply.started": "2025-02-02T05:11:21.247523Z"
    },
    "id": "8a4e5f55",
    "outputId": "98ff4fbb-87c3-46a1-df8d-500258c4e680"
   },
   "outputs": [
    {
     "data": {
      "text/plain": [
       "45.88"
      ]
     },
     "execution_count": 12,
     "metadata": {},
     "output_type": "execute_result"
    }
   ],
   "source": [
    "float(y)"
   ]
  },
  {
   "cell_type": "code",
   "execution_count": 13,
   "id": "ce8ef692",
   "metadata": {
    "execution": {
     "iopub.execute_input": "2025-02-02T05:11:48.786903Z",
     "iopub.status.busy": "2025-02-02T05:11:48.786451Z",
     "iopub.status.idle": "2025-02-02T05:11:48.793379Z",
     "shell.execute_reply": "2025-02-02T05:11:48.792203Z",
     "shell.execute_reply.started": "2025-02-02T05:11:48.786869Z"
    },
    "id": "ce8ef692",
    "outputId": "0c5b52d3-c2db-4cac-fd33-2aabd064ca26"
   },
   "outputs": [
    {
     "data": {
      "text/plain": [
       "45"
      ]
     },
     "execution_count": 13,
     "metadata": {},
     "output_type": "execute_result"
    }
   ],
   "source": [
    "int(float(y))"
   ]
  },
  {
   "cell_type": "code",
   "execution_count": 14,
   "id": "8d045827-1e3b-4d34-ab99-2dfc714f92ad",
   "metadata": {
    "execution": {
     "iopub.execute_input": "2025-02-02T05:13:19.087479Z",
     "iopub.status.busy": "2025-02-02T05:13:19.086588Z",
     "iopub.status.idle": "2025-02-02T05:13:19.099438Z",
     "shell.execute_reply": "2025-02-02T05:13:19.098398Z",
     "shell.execute_reply.started": "2025-02-02T05:13:19.087387Z"
    },
    "tags": []
   },
   "outputs": [
    {
     "data": {
      "text/plain": [
       "'45.88'"
      ]
     },
     "execution_count": 14,
     "metadata": {},
     "output_type": "execute_result"
    }
   ],
   "source": [
    "y"
   ]
  },
  {
   "cell_type": "markdown",
   "id": "94a83937",
   "metadata": {
    "id": "94a83937"
   },
   "source": [
    "## Checking References\n",
    "Checking references in Python involves determining whether two variables reference the same object in memory using the id() function."
   ]
  },
  {
   "cell_type": "code",
   "execution_count": 15,
   "id": "0c722a25",
   "metadata": {
    "execution": {
     "iopub.execute_input": "2025-02-02T05:14:37.951143Z",
     "iopub.status.busy": "2025-02-02T05:14:37.950117Z",
     "iopub.status.idle": "2025-02-02T05:14:37.961302Z",
     "shell.execute_reply": "2025-02-02T05:14:37.959752Z",
     "shell.execute_reply.started": "2025-02-02T05:14:37.950930Z"
    },
    "id": "0c722a25",
    "outputId": "b3d57d0b-7711-4cac-db9b-e4844a041240"
   },
   "outputs": [
    {
     "name": "stdout",
     "output_type": "stream",
     "text": [
      "x =  34 ;  id of x =  4367762704\n",
      "y =  34 ;  id of y =  4367762704\n"
     ]
    }
   ],
   "source": [
    "x = 34\n",
    "y = x\n",
    "print('x = ', x, ';  id of x = ', id(x))\n",
    "print('y = ', y, ';  id of y = ', id(y))"
   ]
  },
  {
   "cell_type": "code",
   "execution_count": 16,
   "id": "5d6ddc8f",
   "metadata": {
    "execution": {
     "iopub.execute_input": "2025-02-02T05:14:53.047606Z",
     "iopub.status.busy": "2025-02-02T05:14:53.047114Z",
     "iopub.status.idle": "2025-02-02T05:14:53.057604Z",
     "shell.execute_reply": "2025-02-02T05:14:53.056434Z",
     "shell.execute_reply.started": "2025-02-02T05:14:53.047572Z"
    },
    "id": "5d6ddc8f",
    "outputId": "9312dccb-3336-4ea2-b793-12ac8685793f"
   },
   "outputs": [
    {
     "name": "stdout",
     "output_type": "stream",
     "text": [
      "x =  65 ;  id of x =  4367763696\n",
      "y =  34 ;  id of y =  4367762704\n"
     ]
    }
   ],
   "source": [
    "x = 65\n",
    "print('x = ', x, ';  id of x = ', id(x))\n",
    "print('y = ', y, ';  id of y = ', id(y))"
   ]
  },
  {
   "cell_type": "code",
   "execution_count": 17,
   "id": "0b5c3223",
   "metadata": {
    "execution": {
     "iopub.execute_input": "2025-02-02T05:15:11.881924Z",
     "iopub.status.busy": "2025-02-02T05:15:11.881082Z",
     "iopub.status.idle": "2025-02-02T05:15:11.893407Z",
     "shell.execute_reply": "2025-02-02T05:15:11.891882Z",
     "shell.execute_reply.started": "2025-02-02T05:15:11.881888Z"
    },
    "id": "0b5c3223",
    "outputId": "46930286-d43f-4d02-f7e0-e7c4489db3b3"
   },
   "outputs": [
    {
     "name": "stdout",
     "output_type": "stream",
     "text": [
      "x =  65 ;  id of x =  4367763696\n",
      "y =  78 ;  id of y =  4367764112\n"
     ]
    }
   ],
   "source": [
    "y = 78\n",
    "print('x = ', x, ';  id of x = ', id(x))\n",
    "print('y = ', y, ';  id of y = ', id(y))"
   ]
  },
  {
   "cell_type": "markdown",
   "id": "32821bd5",
   "metadata": {
    "id": "32821bd5"
   },
   "source": [
    "# Arithmetic Operators"
   ]
  },
  {
   "cell_type": "code",
   "execution_count": 18,
   "id": "af3c58f2",
   "metadata": {
    "execution": {
     "iopub.execute_input": "2025-02-02T05:15:28.837418Z",
     "iopub.status.busy": "2025-02-02T05:15:28.836863Z",
     "iopub.status.idle": "2025-02-02T05:15:28.853744Z",
     "shell.execute_reply": "2025-02-02T05:15:28.852423Z",
     "shell.execute_reply.started": "2025-02-02T05:15:28.837346Z"
    },
    "id": "af3c58f2"
   },
   "outputs": [],
   "source": [
    "x = 50\n",
    "y = 4"
   ]
  },
  {
   "cell_type": "code",
   "execution_count": 19,
   "id": "2fa36b7a",
   "metadata": {
    "execution": {
     "iopub.execute_input": "2025-02-02T05:15:37.080021Z",
     "iopub.status.busy": "2025-02-02T05:15:37.078730Z",
     "iopub.status.idle": "2025-02-02T05:15:37.094950Z",
     "shell.execute_reply": "2025-02-02T05:15:37.091957Z",
     "shell.execute_reply.started": "2025-02-02T05:15:37.079733Z"
    },
    "id": "2fa36b7a",
    "outputId": "772104b6-fd26-4e90-fa04-8c9eb9602a7a"
   },
   "outputs": [
    {
     "name": "stdout",
     "output_type": "stream",
     "text": [
      "Sum of x & y                   :  54\n",
      "Difference between x & y       :  46\n",
      "Product of x & y               :  200\n",
      "Division of x by y             :  12.5\n"
     ]
    }
   ],
   "source": [
    "print('Sum of x & y                   : ', x + y)\n",
    "print('Difference between x & y       : ', x - y)\n",
    "print('Product of x & y               : ', x * y)\n",
    "print('Division of x by y             : ', x / y)"
   ]
  },
  {
   "cell_type": "code",
   "execution_count": 20,
   "id": "3db80fcd",
   "metadata": {
    "execution": {
     "iopub.execute_input": "2025-02-02T05:16:06.294519Z",
     "iopub.status.busy": "2025-02-02T05:16:06.293830Z",
     "iopub.status.idle": "2025-02-02T05:16:06.311110Z",
     "shell.execute_reply": "2025-02-02T05:16:06.302196Z",
     "shell.execute_reply.started": "2025-02-02T05:16:06.294481Z"
    },
    "id": "3db80fcd",
    "outputId": "0051e13f-270e-4fe4-d5ee-cafbc19b596a"
   },
   "outputs": [
    {
     "name": "stdout",
     "output_type": "stream",
     "text": [
      "Remainder of x divided by y    :  2\n",
      "Floor Division x divided by y  :  12\n",
      "Exponential value for x raised to power y :  6250000\n"
     ]
    }
   ],
   "source": [
    "print('Remainder of x divided by y    : ', x % y)\n",
    "print('Floor Division x divided by y  : ', x // y)\n",
    "print('Exponential value for x raised to power y : ', x ** y) # np.power(x, y)"
   ]
  },
  {
   "cell_type": "markdown",
   "id": "7f804b0c",
   "metadata": {
    "id": "7f804b0c"
   },
   "source": [
    "# Arithmetic Assignment Operators"
   ]
  },
  {
   "cell_type": "code",
   "execution_count": 21,
   "id": "8c15a85f",
   "metadata": {
    "execution": {
     "iopub.execute_input": "2025-02-02T05:16:37.845967Z",
     "iopub.status.busy": "2025-02-02T05:16:37.845036Z",
     "iopub.status.idle": "2025-02-02T05:16:37.855342Z",
     "shell.execute_reply": "2025-02-02T05:16:37.853481Z",
     "shell.execute_reply.started": "2025-02-02T05:16:37.845851Z"
    },
    "id": "8c15a85f",
    "outputId": "564ffb93-4da0-43f5-b9f1-b5e74ed68f49"
   },
   "outputs": [
    {
     "name": "stdout",
     "output_type": "stream",
     "text": [
      "Present value of a =  10\n"
     ]
    }
   ],
   "source": [
    "a = 10\n",
    "print('Present value of a = ', a )"
   ]
  },
  {
   "cell_type": "code",
   "execution_count": 22,
   "id": "aa5d4afb",
   "metadata": {
    "execution": {
     "iopub.execute_input": "2025-02-02T05:16:48.973692Z",
     "iopub.status.busy": "2025-02-02T05:16:48.970768Z",
     "iopub.status.idle": "2025-02-02T05:16:48.987955Z",
     "shell.execute_reply": "2025-02-02T05:16:48.986796Z",
     "shell.execute_reply.started": "2025-02-02T05:16:48.973385Z"
    },
    "id": "aa5d4afb",
    "outputId": "62bd35d6-c16a-4eee-b3e9-744831ede997"
   },
   "outputs": [
    {
     "name": "stdout",
     "output_type": "stream",
     "text": [
      "Updated value of a =  15\n"
     ]
    }
   ],
   "source": [
    "a += 5\n",
    "print('Updated value of a = ', a )"
   ]
  },
  {
   "cell_type": "code",
   "execution_count": 23,
   "id": "6c6c6bd5",
   "metadata": {
    "execution": {
     "iopub.execute_input": "2025-02-02T05:17:18.062217Z",
     "iopub.status.busy": "2025-02-02T05:17:18.061800Z",
     "iopub.status.idle": "2025-02-02T05:17:18.078167Z",
     "shell.execute_reply": "2025-02-02T05:17:18.070610Z",
     "shell.execute_reply.started": "2025-02-02T05:17:18.062184Z"
    },
    "id": "6c6c6bd5",
    "outputId": "94f96935-daf4-4043-acf0-96caa28132e9"
   },
   "outputs": [
    {
     "name": "stdout",
     "output_type": "stream",
     "text": [
      "Present value of a =  10\n",
      "Present id of a =  4367761936\n"
     ]
    }
   ],
   "source": [
    "a = 10\n",
    "print('Present value of a = ', a )\n",
    "print('Present id of a = ', id(a))"
   ]
  },
  {
   "cell_type": "code",
   "execution_count": 24,
   "id": "a9f077f9",
   "metadata": {
    "execution": {
     "iopub.execute_input": "2025-02-02T05:17:20.966252Z",
     "iopub.status.busy": "2025-02-02T05:17:20.965490Z",
     "iopub.status.idle": "2025-02-02T05:17:20.984023Z",
     "shell.execute_reply": "2025-02-02T05:17:20.983085Z",
     "shell.execute_reply.started": "2025-02-02T05:17:20.966185Z"
    },
    "id": "a9f077f9",
    "outputId": "04811028-c531-4cf8-c1a7-66fd9f12fc59"
   },
   "outputs": [
    {
     "name": "stdout",
     "output_type": "stream",
     "text": [
      "Updated value of a =  25\n",
      "Updated id of a =  4367762416\n"
     ]
    }
   ],
   "source": [
    "a += 15\n",
    "print('Updated value of a = ', a )\n",
    "print('Updated id of a = ', id(a))"
   ]
  },
  {
   "cell_type": "markdown",
   "id": "d11c54f4",
   "metadata": {
    "id": "d11c54f4"
   },
   "source": [
    "# Comparison Operator"
   ]
  },
  {
   "cell_type": "code",
   "execution_count": 25,
   "id": "f7854d1a",
   "metadata": {
    "execution": {
     "iopub.execute_input": "2025-02-02T05:18:00.065032Z",
     "iopub.status.busy": "2025-02-02T05:18:00.064601Z",
     "iopub.status.idle": "2025-02-02T05:18:00.079759Z",
     "shell.execute_reply": "2025-02-02T05:18:00.074147Z",
     "shell.execute_reply.started": "2025-02-02T05:18:00.064999Z"
    },
    "id": "f7854d1a",
    "outputId": "dfa8d5a5-e666-47e1-f44b-a87f734b84e5"
   },
   "outputs": [
    {
     "name": "stdout",
     "output_type": "stream",
     "text": [
      "a =  20   b =  20\n",
      "a == b  :  True\n"
     ]
    }
   ],
   "source": [
    "a = 20\n",
    "b = 20\n",
    "print('a = ', a, '  b = ', b)\n",
    "print('a == b  : ', a == b)"
   ]
  },
  {
   "cell_type": "code",
   "execution_count": 26,
   "id": "8973afb9",
   "metadata": {
    "execution": {
     "iopub.execute_input": "2025-02-02T05:18:11.984406Z",
     "iopub.status.busy": "2025-02-02T05:18:11.983366Z",
     "iopub.status.idle": "2025-02-02T05:18:11.994100Z",
     "shell.execute_reply": "2025-02-02T05:18:11.992231Z",
     "shell.execute_reply.started": "2025-02-02T05:18:11.984363Z"
    },
    "id": "8973afb9",
    "outputId": "d4f36470-e8ac-4e23-e2c7-8332dd4f7f0a"
   },
   "outputs": [
    {
     "name": "stdout",
     "output_type": "stream",
     "text": [
      "a =  20   b =  30\n",
      "a != b  :  True\n"
     ]
    }
   ],
   "source": [
    "a = 20\n",
    "b = 30\n",
    "print('a = ', a, '  b = ', b)\n",
    "print('a != b  : ', a != b)"
   ]
  },
  {
   "cell_type": "code",
   "execution_count": 27,
   "id": "0f8c5c26",
   "metadata": {
    "execution": {
     "iopub.execute_input": "2025-02-02T05:18:18.713866Z",
     "iopub.status.busy": "2025-02-02T05:18:18.713094Z",
     "iopub.status.idle": "2025-02-02T05:18:18.724321Z",
     "shell.execute_reply": "2025-02-02T05:18:18.722008Z",
     "shell.execute_reply.started": "2025-02-02T05:18:18.713822Z"
    },
    "id": "0f8c5c26",
    "outputId": "42f2a69d-d2d8-4ed0-8dde-6307c5e8eacb"
   },
   "outputs": [
    {
     "name": "stdout",
     "output_type": "stream",
     "text": [
      "a =  40   b =  30\n",
      "a <= b  :  False\n"
     ]
    }
   ],
   "source": [
    "a = 40\n",
    "b = 30\n",
    "print('a = ', a, '  b = ', b)\n",
    "print('a <= b  : ', a <= b)"
   ]
  },
  {
   "cell_type": "code",
   "execution_count": 28,
   "id": "8278c936",
   "metadata": {
    "execution": {
     "iopub.execute_input": "2025-02-02T05:18:23.056330Z",
     "iopub.status.busy": "2025-02-02T05:18:23.055897Z",
     "iopub.status.idle": "2025-02-02T05:18:23.064916Z",
     "shell.execute_reply": "2025-02-02T05:18:23.062826Z",
     "shell.execute_reply.started": "2025-02-02T05:18:23.056296Z"
    },
    "id": "8278c936",
    "outputId": "52a1c22f-4af1-4ea1-df1d-9a4d17d6cb9f"
   },
   "outputs": [
    {
     "name": "stdout",
     "output_type": "stream",
     "text": [
      "a =  30   b =  30\n",
      "a >= b  :  True\n"
     ]
    }
   ],
   "source": [
    "a = 30\n",
    "b = 30\n",
    "print('a = ', a, '  b = ', b)\n",
    "print('a >= b  : ', a >= b)"
   ]
  },
  {
   "cell_type": "markdown",
   "id": "39c782f9",
   "metadata": {
    "id": "39c782f9"
   },
   "source": [
    "# Logical Operators"
   ]
  },
  {
   "cell_type": "code",
   "execution_count": 29,
   "id": "00356ab0",
   "metadata": {
    "execution": {
     "iopub.execute_input": "2025-02-02T05:18:46.747381Z",
     "iopub.status.busy": "2025-02-02T05:18:46.746715Z",
     "iopub.status.idle": "2025-02-02T05:18:46.756435Z",
     "shell.execute_reply": "2025-02-02T05:18:46.755437Z",
     "shell.execute_reply.started": "2025-02-02T05:18:46.747326Z"
    },
    "id": "00356ab0",
    "outputId": "706c8855-32ab-4764-dbd8-38bb8446b979"
   },
   "outputs": [
    {
     "name": "stdout",
     "output_type": "stream",
     "text": [
      "a =  30   b =  30\n",
      "a < b            :  False\n",
      "a == b           :  True\n"
     ]
    }
   ],
   "source": [
    "a = 30\n",
    "b = 30\n",
    "print('a = ', a, '  b = ', b)\n",
    "print('a < b            : ', a < b)\n",
    "print('a == b           : ', a == b)"
   ]
  },
  {
   "cell_type": "code",
   "execution_count": 30,
   "id": "54e251ac",
   "metadata": {
    "execution": {
     "iopub.execute_input": "2025-02-02T05:19:18.827846Z",
     "iopub.status.busy": "2025-02-02T05:19:18.827236Z",
     "iopub.status.idle": "2025-02-02T05:19:18.835794Z",
     "shell.execute_reply": "2025-02-02T05:19:18.834751Z",
     "shell.execute_reply.started": "2025-02-02T05:19:18.827806Z"
    },
    "id": "54e251ac",
    "outputId": "701140b5-9c25-4556-da29-6c5ee518371e"
   },
   "outputs": [
    {
     "name": "stdout",
     "output_type": "stream",
     "text": [
      "a < b and a == b :  False\n"
     ]
    }
   ],
   "source": [
    "print('a < b and a == b : ', a < b and a == b)"
   ]
  },
  {
   "cell_type": "code",
   "execution_count": null,
   "id": "cd75ed3c",
   "metadata": {
    "id": "cd75ed3c",
    "outputId": "34fb685e-2a54-4fce-e54a-46f05e46cc86"
   },
   "outputs": [],
   "source": [
    "a = 30\n",
    "b = 30\n",
    "print('a = ', a, '  b = ', b)\n",
    "print('a < b           : ', a < b)\n",
    "print('a == b          : ', a == b)"
   ]
  },
  {
   "cell_type": "code",
   "execution_count": 31,
   "id": "2e4bc040",
   "metadata": {
    "execution": {
     "iopub.execute_input": "2025-02-02T05:19:43.643532Z",
     "iopub.status.busy": "2025-02-02T05:19:43.642838Z",
     "iopub.status.idle": "2025-02-02T05:19:43.654019Z",
     "shell.execute_reply": "2025-02-02T05:19:43.651967Z",
     "shell.execute_reply.started": "2025-02-02T05:19:43.643496Z"
    },
    "id": "2e4bc040",
    "outputId": "d4c70fa0-800d-47ec-f284-404b5e8f915d"
   },
   "outputs": [
    {
     "name": "stdout",
     "output_type": "stream",
     "text": [
      "a < b or a == b :  True\n"
     ]
    }
   ],
   "source": [
    "print('a < b or a == b : ', a < b or a == b)"
   ]
  },
  {
   "cell_type": "code",
   "execution_count": 32,
   "id": "c373a640",
   "metadata": {
    "execution": {
     "iopub.execute_input": "2025-02-02T05:20:14.395281Z",
     "iopub.status.busy": "2025-02-02T05:20:14.394830Z",
     "iopub.status.idle": "2025-02-02T05:20:14.414965Z",
     "shell.execute_reply": "2025-02-02T05:20:14.412928Z",
     "shell.execute_reply.started": "2025-02-02T05:20:14.395235Z"
    },
    "id": "c373a640",
    "outputId": "524e461b-5638-46ae-f005-2350e4af4d74"
   },
   "outputs": [
    {
     "name": "stdout",
     "output_type": "stream",
     "text": [
      "a =  40\n",
      "a < 50      :  True\n"
     ]
    }
   ],
   "source": [
    "a = 40\n",
    "print('a = ', a)\n",
    "print('a < 50      : ' , a < 50 )"
   ]
  },
  {
   "cell_type": "code",
   "execution_count": 33,
   "id": "6df6ad87",
   "metadata": {
    "execution": {
     "iopub.execute_input": "2025-02-02T05:20:37.949685Z",
     "iopub.status.busy": "2025-02-02T05:20:37.949154Z",
     "iopub.status.idle": "2025-02-02T05:20:37.958833Z",
     "shell.execute_reply": "2025-02-02T05:20:37.956829Z",
     "shell.execute_reply.started": "2025-02-02T05:20:37.949649Z"
    },
    "id": "6df6ad87",
    "outputId": "4011b90f-c924-473b-8d12-761a8cd62e3c"
   },
   "outputs": [
    {
     "name": "stdout",
     "output_type": "stream",
     "text": [
      "not a < 50  :  False\n"
     ]
    }
   ],
   "source": [
    "print('not a < 50  : ' , not(a < 50))"
   ]
  },
  {
   "cell_type": "markdown",
   "id": "bd699087",
   "metadata": {
    "id": "bd699087",
    "tags": []
   },
   "source": [
    "# Miscellaneous Operators"
   ]
  },
  {
   "cell_type": "markdown",
   "id": "ba8d6ec4",
   "metadata": {
    "id": "ba8d6ec4"
   },
   "source": [
    "### Identity Operators"
   ]
  },
  {
   "cell_type": "code",
   "execution_count": 34,
   "id": "40e0b821",
   "metadata": {
    "execution": {
     "iopub.execute_input": "2025-02-02T05:21:48.233156Z",
     "iopub.status.busy": "2025-02-02T05:21:48.232328Z",
     "iopub.status.idle": "2025-02-02T05:21:48.243919Z",
     "shell.execute_reply": "2025-02-02T05:21:48.243345Z",
     "shell.execute_reply.started": "2025-02-02T05:21:48.233080Z"
    },
    "id": "40e0b821",
    "outputId": "c448289d-f28b-40c2-ed47-90cb4b355a2b"
   },
   "outputs": [
    {
     "name": "stdout",
     "output_type": "stream",
     "text": [
      "a is b False\n"
     ]
    }
   ],
   "source": [
    "a = ['a', 'b', 'c']\n",
    "b = ['a', 'b', 'c']\n",
    "print('a is b' , a is b) # is operator checks if the objects have the same memory location"
   ]
  },
  {
   "cell_type": "code",
   "execution_count": 35,
   "id": "3e19ff48",
   "metadata": {
    "execution": {
     "iopub.execute_input": "2025-02-02T05:22:20.153075Z",
     "iopub.status.busy": "2025-02-02T05:22:20.152022Z",
     "iopub.status.idle": "2025-02-02T05:22:20.166853Z",
     "shell.execute_reply": "2025-02-02T05:22:20.165271Z",
     "shell.execute_reply.started": "2025-02-02T05:22:20.153004Z"
    },
    "id": "3e19ff48",
    "outputId": "805cfe82-961a-4cab-bdcf-e99698330832"
   },
   "outputs": [
    {
     "name": "stdout",
     "output_type": "stream",
     "text": [
      "a is b True\n"
     ]
    }
   ],
   "source": [
    "a = ['a', 'b', 'c']\n",
    "b =  a\n",
    "print('a is b' , a is b) # here a and b both refer to the same memory location"
   ]
  },
  {
   "cell_type": "code",
   "execution_count": 36,
   "id": "415131e2",
   "metadata": {
    "execution": {
     "iopub.execute_input": "2025-02-02T05:22:31.452863Z",
     "iopub.status.busy": "2025-02-02T05:22:31.452328Z",
     "iopub.status.idle": "2025-02-02T05:22:31.463258Z",
     "shell.execute_reply": "2025-02-02T05:22:31.461843Z",
     "shell.execute_reply.started": "2025-02-02T05:22:31.452787Z"
    },
    "id": "415131e2",
    "outputId": "23e6df50-83a5-4bf8-c2aa-8af9f84ad868"
   },
   "outputs": [
    {
     "data": {
      "text/plain": [
       "True"
      ]
     },
     "execution_count": 36,
     "metadata": {},
     "output_type": "execute_result"
    }
   ],
   "source": [
    "id(a) == id(b)"
   ]
  },
  {
   "cell_type": "code",
   "execution_count": 37,
   "id": "3527455e",
   "metadata": {
    "execution": {
     "iopub.execute_input": "2025-02-02T05:22:47.631018Z",
     "iopub.status.busy": "2025-02-02T05:22:47.628170Z",
     "iopub.status.idle": "2025-02-02T05:22:47.647789Z",
     "shell.execute_reply": "2025-02-02T05:22:47.646631Z",
     "shell.execute_reply.started": "2025-02-02T05:22:47.630909Z"
    },
    "id": "3527455e",
    "outputId": "dfcef41b-797a-4236-b6f7-13148dac4f43"
   },
   "outputs": [
    {
     "name": "stdout",
     "output_type": "stream",
     "text": [
      "a is not b True\n"
     ]
    }
   ],
   "source": [
    "a = ['a', 'b', 'c']\n",
    "b = ['a', 'b', 'c']\n",
    "print('a is not b' , a is not b)"
   ]
  },
  {
   "cell_type": "markdown",
   "id": "e6a92c05",
   "metadata": {
    "id": "e6a92c05"
   },
   "source": [
    "### Membership Operators"
   ]
  },
  {
   "cell_type": "code",
   "execution_count": 38,
   "id": "75ddd5aa",
   "metadata": {
    "execution": {
     "iopub.execute_input": "2025-02-02T05:23:21.381302Z",
     "iopub.status.busy": "2025-02-02T05:23:21.380366Z",
     "iopub.status.idle": "2025-02-02T05:23:21.391196Z",
     "shell.execute_reply": "2025-02-02T05:23:21.390166Z",
     "shell.execute_reply.started": "2025-02-02T05:23:21.381211Z"
    },
    "id": "75ddd5aa",
    "outputId": "0cd99b9c-3807-4b32-fcd7-d7fe96291414"
   },
   "outputs": [
    {
     "name": "stdout",
     "output_type": "stream",
     "text": [
      "a  in \" Dictionary \"\n",
      "True\n"
     ]
    }
   ],
   "source": [
    "x = 'a'\n",
    "y = 'Dictionary'\n",
    "print(x , ' in \"', y, '\"')\n",
    "print( x in y)"
   ]
  },
  {
   "cell_type": "code",
   "execution_count": 39,
   "id": "2b94ae72",
   "metadata": {
    "execution": {
     "iopub.execute_input": "2025-02-02T05:23:35.576574Z",
     "iopub.status.busy": "2025-02-02T05:23:35.576096Z",
     "iopub.status.idle": "2025-02-02T05:23:35.584143Z",
     "shell.execute_reply": "2025-02-02T05:23:35.583120Z",
     "shell.execute_reply.started": "2025-02-02T05:23:35.576536Z"
    },
    "id": "2b94ae72",
    "outputId": "fa41aae9-ac54-47b9-ffea-fa99e1f3efb9"
   },
   "outputs": [
    {
     "name": "stdout",
     "output_type": "stream",
     "text": [
      "a  in \" Dictionary \"\n",
      "False\n"
     ]
    }
   ],
   "source": [
    "x = 'a'\n",
    "y = 'Dictionary'\n",
    "print(x , ' in \"', y, '\"')\n",
    "print( x not in y)"
   ]
  },
  {
   "cell_type": "code",
   "execution_count": 40,
   "id": "4eb92021",
   "metadata": {
    "execution": {
     "iopub.execute_input": "2025-02-02T05:24:12.057367Z",
     "iopub.status.busy": "2025-02-02T05:24:12.056848Z",
     "iopub.status.idle": "2025-02-02T05:24:12.066457Z",
     "shell.execute_reply": "2025-02-02T05:24:12.064480Z",
     "shell.execute_reply.started": "2025-02-02T05:24:12.057333Z"
    },
    "id": "4eb92021",
    "outputId": "588ae6d4-da47-43dc-a41d-db695fbae254"
   },
   "outputs": [
    {
     "data": {
      "text/plain": [
       "True"
      ]
     },
     "execution_count": 40,
     "metadata": {},
     "output_type": "execute_result"
    }
   ],
   "source": [
    "a = [20, 45, 10]\n",
    "10 in a"
   ]
  },
  {
   "cell_type": "code",
   "execution_count": 41,
   "id": "a45c3b68",
   "metadata": {
    "execution": {
     "iopub.execute_input": "2025-02-02T05:24:17.712984Z",
     "iopub.status.busy": "2025-02-02T05:24:17.712418Z",
     "iopub.status.idle": "2025-02-02T05:24:17.722803Z",
     "shell.execute_reply": "2025-02-02T05:24:17.721235Z",
     "shell.execute_reply.started": "2025-02-02T05:24:17.712948Z"
    },
    "id": "a45c3b68",
    "outputId": "c8cf4611-f67f-4e4e-b7c8-3283627c94e7"
   },
   "outputs": [
    {
     "data": {
      "text/plain": [
       "False"
      ]
     },
     "execution_count": 41,
     "metadata": {},
     "output_type": "execute_result"
    }
   ],
   "source": [
    "a = [20, 45, 10]\n",
    "10 not in a"
   ]
  },
  {
   "cell_type": "markdown",
   "id": "07976d7b",
   "metadata": {
    "id": "07976d7b"
   },
   "source": [
    "# Strings in Python"
   ]
  },
  {
   "cell_type": "code",
   "execution_count": 42,
   "id": "db449368",
   "metadata": {
    "execution": {
     "iopub.execute_input": "2025-02-02T05:24:52.662916Z",
     "iopub.status.busy": "2025-02-02T05:24:52.662199Z",
     "iopub.status.idle": "2025-02-02T05:24:52.682186Z",
     "shell.execute_reply": "2025-02-02T05:24:52.681678Z",
     "shell.execute_reply.started": "2025-02-02T05:24:52.662865Z"
    },
    "id": "db449368",
    "outputId": "9b4f6cb1-f17b-4789-b9cb-c8dfb6c3aa66"
   },
   "outputs": [
    {
     "name": "stdout",
     "output_type": "stream",
     "text": [
      "Hi! Welcome to Python Programming!!\n",
      "Hi! Welcome to Python Programming!!\n"
     ]
    }
   ],
   "source": [
    "message_1 = 'Hi! Welcome to Python Programming!!'\n",
    "message_2 = \"Hi! Welcome to Python Programming!!\"\n",
    "print(message_1)\n",
    "print(message_2)"
   ]
  },
  {
   "cell_type": "code",
   "execution_count": 43,
   "id": "e4732902-b94a-4e2a-b83a-db34dfdfc48d",
   "metadata": {
    "execution": {
     "iopub.execute_input": "2025-02-02T05:25:01.821366Z",
     "iopub.status.busy": "2025-02-02T05:25:01.820494Z",
     "iopub.status.idle": "2025-02-02T05:25:01.832934Z",
     "shell.execute_reply": "2025-02-02T05:25:01.831875Z",
     "shell.execute_reply.started": "2025-02-02T05:25:01.821298Z"
    },
    "tags": []
   },
   "outputs": [
    {
     "data": {
      "text/plain": [
       "'Hi! Welcome to Python Programming!!'"
      ]
     },
     "execution_count": 43,
     "metadata": {},
     "output_type": "execute_result"
    }
   ],
   "source": [
    "message_1"
   ]
  },
  {
   "cell_type": "markdown",
   "id": "e592b6a5",
   "metadata": {
    "id": "e592b6a5"
   },
   "source": [
    "# String Methods"
   ]
  },
  {
   "cell_type": "code",
   "execution_count": 44,
   "id": "8536f7b5-b43a-424e-8df9-f9dda9386ce0",
   "metadata": {
    "execution": {
     "iopub.execute_input": "2025-02-02T05:28:24.033889Z",
     "iopub.status.busy": "2025-02-02T05:28:24.033391Z",
     "iopub.status.idle": "2025-02-02T05:28:24.048450Z",
     "shell.execute_reply": "2025-02-02T05:28:24.046687Z",
     "shell.execute_reply.started": "2025-02-02T05:28:24.033854Z"
    },
    "id": "ebe9234e",
    "outputId": "bedc3762-d514-445e-e32c-61b31280c190"
   },
   "outputs": [
    {
     "data": {
      "text/plain": [
       "'SHE SELLS SEA SHELLS ON THE SEA SHORE.'"
      ]
     },
     "execution_count": 44,
     "metadata": {},
     "output_type": "execute_result"
    }
   ],
   "source": [
    "string = 'She seLLs sEa SHELLS oN tHe SeA sHoRe.'\n",
    "string.upper()"
   ]
  },
  {
   "cell_type": "code",
   "execution_count": 45,
   "id": "dd154e24-9756-4dbf-8fd0-488e34a595bb",
   "metadata": {
    "execution": {
     "iopub.execute_input": "2025-02-02T05:28:37.155086Z",
     "iopub.status.busy": "2025-02-02T05:28:37.154663Z",
     "iopub.status.idle": "2025-02-02T05:28:37.167472Z",
     "shell.execute_reply": "2025-02-02T05:28:37.166540Z",
     "shell.execute_reply.started": "2025-02-02T05:28:37.155053Z"
    },
    "tags": []
   },
   "outputs": [
    {
     "data": {
      "text/plain": [
       "'She seLLs sEa SHELLS oN tHe SeA sHoRe.'"
      ]
     },
     "execution_count": 45,
     "metadata": {},
     "output_type": "execute_result"
    }
   ],
   "source": [
    "string"
   ]
  },
  {
   "cell_type": "code",
   "execution_count": 46,
   "id": "754b32cc-524a-482d-a4ca-ef57a49728c7",
   "metadata": {
    "execution": {
     "iopub.execute_input": "2025-02-02T05:29:24.017460Z",
     "iopub.status.busy": "2025-02-02T05:29:24.016650Z",
     "iopub.status.idle": "2025-02-02T05:29:24.028140Z",
     "shell.execute_reply": "2025-02-02T05:29:24.026590Z",
     "shell.execute_reply.started": "2025-02-02T05:29:24.017404Z"
    },
    "id": "ebe9234e",
    "outputId": "bedc3762-d514-445e-e32c-61b31280c190"
   },
   "outputs": [
    {
     "name": "stdout",
     "output_type": "stream",
     "text": [
      "SHE SELLS SEA SHELLS ON THE SEA SHORE.\n"
     ]
    }
   ],
   "source": [
    "upper_case = string.upper()\n",
    "print(upper_case)"
   ]
  },
  {
   "cell_type": "code",
   "execution_count": 47,
   "id": "92b1c30c-5cad-4cf2-bc03-c326beed950e",
   "metadata": {
    "execution": {
     "iopub.execute_input": "2025-02-02T05:29:31.137809Z",
     "iopub.status.busy": "2025-02-02T05:29:31.136804Z",
     "iopub.status.idle": "2025-02-02T05:29:31.151277Z",
     "shell.execute_reply": "2025-02-02T05:29:31.150208Z",
     "shell.execute_reply.started": "2025-02-02T05:29:31.137767Z"
    },
    "tags": []
   },
   "outputs": [
    {
     "data": {
      "text/plain": [
       "'She seLLs sEa SHELLS oN tHe SeA sHoRe.'"
      ]
     },
     "execution_count": 47,
     "metadata": {},
     "output_type": "execute_result"
    }
   ],
   "source": [
    "string"
   ]
  },
  {
   "cell_type": "code",
   "execution_count": 48,
   "id": "e75f14df",
   "metadata": {
    "execution": {
     "iopub.execute_input": "2025-02-02T05:29:41.856738Z",
     "iopub.status.busy": "2025-02-02T05:29:41.856226Z",
     "iopub.status.idle": "2025-02-02T05:29:41.867259Z",
     "shell.execute_reply": "2025-02-02T05:29:41.865610Z",
     "shell.execute_reply.started": "2025-02-02T05:29:41.856701Z"
    },
    "id": "e75f14df",
    "outputId": "76901f89-1570-45dc-d692-77e407ada7f6"
   },
   "outputs": [
    {
     "name": "stdout",
     "output_type": "stream",
     "text": [
      "she sells sea shells on the sea shore.\n"
     ]
    }
   ],
   "source": [
    "lower_case = string.lower()\n",
    "print(lower_case)"
   ]
  },
  {
   "cell_type": "code",
   "execution_count": 49,
   "id": "0fbdb2f9",
   "metadata": {
    "execution": {
     "iopub.execute_input": "2025-02-02T05:29:50.380446Z",
     "iopub.status.busy": "2025-02-02T05:29:50.376504Z",
     "iopub.status.idle": "2025-02-02T05:29:50.390446Z",
     "shell.execute_reply": "2025-02-02T05:29:50.388310Z",
     "shell.execute_reply.started": "2025-02-02T05:29:50.380378Z"
    },
    "id": "0fbdb2f9",
    "outputId": "bc06ca0b-e713-4365-ec7f-39fb412e88bb"
   },
   "outputs": [
    {
     "name": "stdout",
     "output_type": "stream",
     "text": [
      "She sells sea shells on the sea shore.\n"
     ]
    }
   ],
   "source": [
    "sentence = string.capitalize()\n",
    "print(sentence)"
   ]
  },
  {
   "cell_type": "code",
   "execution_count": 50,
   "id": "e4471326",
   "metadata": {
    "execution": {
     "iopub.execute_input": "2025-02-02T05:30:14.415981Z",
     "iopub.status.busy": "2025-02-02T05:30:14.415143Z",
     "iopub.status.idle": "2025-02-02T05:30:14.424272Z",
     "shell.execute_reply": "2025-02-02T05:30:14.422372Z",
     "shell.execute_reply.started": "2025-02-02T05:30:14.415826Z"
    },
    "id": "e4471326",
    "outputId": "58fb04da-2d2e-4848-a32b-a1575f2fe58e"
   },
   "outputs": [
    {
     "data": {
      "text/plain": [
       "'She Sells Sea Shells On The Sea Shore.'"
      ]
     },
     "execution_count": 50,
     "metadata": {},
     "output_type": "execute_result"
    }
   ],
   "source": [
    "word_upper = string.title()\n",
    "word_upper"
   ]
  },
  {
   "cell_type": "markdown",
   "id": "bc08a558-22a8-44de-8df0-597c51314ad9",
   "metadata": {},
   "source": [
    "https://www.w3schools.com/python/python_strings.asp"
   ]
  },
  {
   "cell_type": "markdown",
   "id": "7abfd349-5c16-4b98-a92e-c357aeccebe9",
   "metadata": {},
   "source": [
    "https://www.w3schools.com/python/python_ref_string.asp"
   ]
  }
 ],
 "metadata": {
  "colab": {
   "provenance": []
  },
  "kernelspec": {
   "display_name": "Python 3 (ipykernel)",
   "language": "python",
   "name": "python3"
  },
  "language_info": {
   "codemirror_mode": {
    "name": "ipython",
    "version": 3
   },
   "file_extension": ".py",
   "mimetype": "text/x-python",
   "name": "python",
   "nbconvert_exporter": "python",
   "pygments_lexer": "ipython3",
   "version": "3.10.10"
  }
 },
 "nbformat": 4,
 "nbformat_minor": 5
}
