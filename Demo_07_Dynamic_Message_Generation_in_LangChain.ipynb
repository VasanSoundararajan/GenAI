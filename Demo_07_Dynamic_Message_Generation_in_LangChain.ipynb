{
 "cells": [
  {
   "cell_type": "markdown",
   "metadata": {
    "id": "29eFJrjL42CO"
   },
   "source": [
    "# __Demo: Dynamic Message Generation in LangChain__\n",
    "\n"
   ]
  },
  {
   "cell_type": "markdown",
   "metadata": {
    "id": "wHO8sgiU1_YL"
   },
   "source": [
    "## __Steps to Perform:__\n",
    "Step 1: Import the Necessary Components\n",
    "\n",
    "Step 2: Define Message Templates\n",
    "\n",
    "Step 3: Create a Chat Prompt with Placeholders\n",
    "\n",
    "Step 4: Define the Conversation Messages\n",
    "\n",
    "Step 5: Generate the Conversation\n",
    "\n",
    "Step 6: Print the Conversation"
   ]
  },
  {
   "cell_type": "markdown",
   "metadata": {
    "id": "3LZHsHfB1ysE"
   },
   "source": [
    "### __Step 1: Import the Necessary Components__\n",
    "- Import classes for creating message prompts and message objects from the Langchain library.\n",
    "\n"
   ]
  },
  {
   "cell_type": "code",
   "execution_count": 1,
   "metadata": {
    "id": "vQORwtsz4FLx"
   },
   "outputs": [],
   "source": [
    "from langchain.prompts import MessagesPlaceholder, HumanMessagePromptTemplate, ChatPromptTemplate\n",
    "from langchain.schema.messages import HumanMessage, AIMessage"
   ]
  },
  {
   "cell_type": "markdown",
   "metadata": {
    "id": "Fjc3Ybmi4GW7"
   },
   "source": [
    "### __Step 2: Define Message Templates__\n",
    "- Define a simple message prompt template with a placeholder for subjects and a more complex human message template for summarization.\n",
    "\n",
    "\n"
   ]
  },
  {
   "cell_type": "code",
   "execution_count": 2,
   "metadata": {
    "id": "V0ipqv9a4N1w"
   },
   "outputs": [],
   "source": [
    "simple_prompt = \"The {subject} is strong in this one.\"\n",
    "\n",
    "human_prompt = \"Summarize our conversation so far in {word_count} words.\"\n"
   ]
  },
  {
   "cell_type": "markdown",
   "metadata": {
    "id": "nPPvAa2S4Oxk"
   },
   "source": [
    "### __Step 3: Create a Chat Prompt with Placeholders__\n",
    "- Create a __ChatPromptTemplate__ that can hold a list of messages and includes both the simple and human message templates.\n",
    "\n"
   ]
  },
  {
   "cell_type": "code",
   "execution_count": 3,
   "metadata": {
    "id": "-KVvR5Ep4XCe"
   },
   "outputs": [],
   "source": [
    "# Create a template for a simple message using LangChain's HumanMessagePromptTemplate\n",
    "# This takes a predefined template string (simple_prompt) and converts it into a format \n",
    "# that can be used in a chat conversation\n",
    "simple_message_template = HumanMessagePromptTemplate.from_template(simple_prompt)\n",
    "\n",
    "# Create another template for human messages, similar to above but using a different\n",
    "# template string (human_prompt) - this allows for different types of human messages\n",
    "human_message_template = HumanMessagePromptTemplate.from_template(human_prompt)\n",
    "\n",
    "# Create a complete chat prompt template that combines multiple message components:\n",
    "chat_prompt = ChatPromptTemplate.from_messages([\n",
    "    # MessagesPlaceholder allows for maintaining conversation history\n",
    "    # The variable_name=\"conversation\" will store previous messages in the chat\n",
    "    MessagesPlaceholder(variable_name=\"conversation\"),\n",
    "    \n",
    "    # Add our previously defined message templates to the chat structure\n",
    "    simple_message_template,    # Include the simple message format\n",
    "    human_message_template      # Include the human message format\n",
    "])"
   ]
  },
  {
   "cell_type": "markdown",
   "metadata": {
    "id": "CRKrasDF4Xuh"
   },
   "source": [
    "### __Step 4: Define the Conversation Messages__\n",
    "- Create instances of __HumanMessage__ and __AIMessage__ to represent the conversation's human and AI parts, respectively.\n",
    "\n",
    "\n",
    "\n"
   ]
  },
  {
   "cell_type": "code",
   "execution_count": 4,
   "metadata": {
    "id": "WBDLlnZ04fDP"
   },
   "outputs": [],
   "source": [
    "# Create a human message object that represents user input in a chat conversation\n",
    "# HumanMessage is a LangChain class specifically designed to format and store human-generated messages\n",
    "human_message = HumanMessage(content=\"Can you explain what Force is in physics?\")\n",
    "\n",
    "# Create an AI message object that represents the AI's response\n",
    "# AIMessage is a LangChain class for formatting and storing AI-generated responses\n",
    "# The triple quotes (\"\"\"\\) allow for a multi-line string response\n",
    "ai_message = AIMessage(content=\"\"\"\\\n",
    "1. Force is a push or pull that can change an object's motion or shape.\n",
    "2. It's measured in units called Newtons (N).\n",
    "3. Forces can be contact forces (like pushing) or non-contact forces (like gravity).\\\n",
    "\"\"\")\n"
   ]
  },
  {
   "cell_type": "markdown",
   "metadata": {
    "id": "V3xiz-tp4f0Y"
   },
   "source": [
    "### __Step 5: Generate the Conversation__\n",
    "- Use the __chat_prompt.format_prompt__ method to fill in the placeholders for the conversation history, subject, and word count for the summary, and convert the result into a list of message objects.\n",
    "\n"
   ]
  },
  {
   "cell_type": "code",
   "execution_count": 5,
   "metadata": {
    "id": "25zAsLV54m2c"
   },
   "outputs": [],
   "source": [
    "# Format a complete chat prompt using the previously defined chat_prompt template\n",
    "conversation = chat_prompt.format_prompt(\n",
    "    # Pass in the previous conversation history as a list of messages\n",
    "    # This includes both the human question about language learning and the AI's response\n",
    "    conversation=[human_message, ai_message],\n",
    "    \n",
    "    # Specify additional parameters that will be used in the template:\n",
    "    subject=\"Force\",        # The topic to discuss (in this case \"Force\", likely a physics concept)\n",
    "    word_count=\"10\"        # Specify that responses should be around 10 words\n",
    ").to_messages()           # Convert the formatted prompt into a messages format\n"
   ]
  },
  {
   "cell_type": "code",
   "execution_count": 6,
   "metadata": {},
   "outputs": [
    {
     "data": {
      "text/plain": [
       "[HumanMessage(content='Can you explain what Force is in physics?', additional_kwargs={}, response_metadata={}),\n",
       " AIMessage(content=\"1. Force is a push or pull that can change an object's motion or shape.\\n2. It's measured in units called Newtons (N).\\n3. Forces can be contact forces (like pushing) or non-contact forces (like gravity).\", additional_kwargs={}, response_metadata={}),\n",
       " HumanMessage(content='The Force is strong in this one.', additional_kwargs={}, response_metadata={}),\n",
       " HumanMessage(content='Summarize our conversation so far in 10 words.', additional_kwargs={}, response_metadata={})]"
      ]
     },
     "execution_count": 6,
     "metadata": {},
     "output_type": "execute_result"
    }
   ],
   "source": [
    "conversation"
   ]
  },
  {
   "cell_type": "markdown",
   "metadata": {
    "id": "jeMkgIVi4nZe"
   },
   "source": [
    "### __Step 6: Print the Conversation__\n",
    "\n",
    "- Iterate over the message objects and print their content to display the dynamic conversation, including the simple message and the summarization request."
   ]
  },
  {
   "cell_type": "code",
   "execution_count": 7,
   "metadata": {
    "id": "oJn3VBH64wVY",
    "outputId": "f23b8137-4454-4b02-92df-de8e1818105d"
   },
   "outputs": [
    {
     "name": "stdout",
     "output_type": "stream",
     "text": [
      "Can you explain what Force is in physics?\n",
      "1. Force is a push or pull that can change an object's motion or shape.\n",
      "2. It's measured in units called Newtons (N).\n",
      "3. Forces can be contact forces (like pushing) or non-contact forces (like gravity).\n",
      "The Force is strong in this one.\n",
      "Summarize our conversation so far in 10 words.\n"
     ]
    }
   ],
   "source": [
    "for message in conversation:\n",
    "    print(message.content)"
   ]
  },
  {
   "cell_type": "markdown",
   "metadata": {
    "id": "gUArHvquj2pF"
   },
   "source": [
    "## __Conclusion__\n",
    "This code demonstrates an innovative approach to automating conversation creation, leveraging LangChain's capabilities to integrate predefined templates and dynamically generate context-adaptive dialogues.\n",
    "\n",
    "This method simplifies the process of constructing complex conversations, showcasing the potential for creating flexible, responsive interactions in applications that require nuanced communication.\n",
    "\n",
    "\n",
    "\n",
    "\n"
   ]
  }
 ],
 "metadata": {
  "colab": {
   "provenance": []
  },
  "kernelspec": {
   "display_name": "iitk_gen_ai_course",
   "language": "python",
   "name": "python3"
  },
  "language_info": {
   "codemirror_mode": {
    "name": "ipython",
    "version": 3
   },
   "file_extension": ".py",
   "mimetype": "text/x-python",
   "name": "python",
   "nbconvert_exporter": "python",
   "pygments_lexer": "ipython3",
   "version": "3.11.8"
  }
 },
 "nbformat": 4,
 "nbformat_minor": 0
}
